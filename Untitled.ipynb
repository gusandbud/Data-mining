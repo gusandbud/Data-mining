{
 "cells": [
  {
   "cell_type": "code",
   "execution_count": 72,
   "metadata": {
    "collapsed": true
   },
   "outputs": [],
   "source": [
    "#          not one-hot\n",
    "\n",
    "\n",
    "\n",
    "\n",
    "from sklearn.preprocessing import LabelEncoder\n",
    "\n",
    "\n",
    "def PreProc(df):\n",
    "    le = LabelEncoder()\n",
    "    le.fit(df['Departure'])\n",
    "    df['Departure'] = le.transform(df['Departure'])\n",
    "    df['Arrival'] = le.transform(df['Arrival'])\n",
    "    le.fit(df['CityDeparture'])\n",
    "    df['CityDeparture'] = le.transform(df['CityDeparture'])\n",
    "    df['CityArrival'] = le.transform(df['CityArrival'])\n",
    "    le.fit(df['DateOfDeparture'])\n",
    "    #df['DateOfDeparture'] = le.transform(df['DateOfDeparture'])\n",
    "    df = DateExtraColumns(df)\n",
    "    df = df.drop('DateOfDeparture', axis = 1)\n",
    "    df['LatitudeDeparture'] = np.log(df['LatitudeDeparture'].abs())\n",
    "    df['LatitudeArrival'] = np.log(df['LatitudeArrival'].abs())\n",
    "    return(df)"
   ]
  },
  {
   "cell_type": "code",
   "execution_count": 1,
   "metadata": {
    "collapsed": false
   },
   "outputs": [],
   "source": [
    "#           one-hot\n",
    "\n",
    "\n",
    "#  Using DictVectorizer, we enforce one-hot encoding on arrival cities,\n",
    "#      arrival airports, departure cities and departure airports\n",
    "def PreProc(df_set):\n",
    "    from sklearn import feature_extraction\n",
    "    dvec = feature_extraction.DictVectorizer()\n",
    "    cols = ['Departure','CityDeparture','Arrival','CityArrival']\n",
    "    mkdict = lambda row: dict((col, row[col]) for col in cols)\n",
    "#   #one-hot encoded data replaces pre-existing columns\n",
    "    vecData = pd.DataFrame(dvec.fit_transform(df_set[cols].apply(mkdict,axis = 1)).toarray())\n",
    "    vecData.columns = dvec.get_feature_names()\n",
    "    vecData.index = df_set.index\n",
    "    df_set = pd.concat([df_set.drop(cols,axis = 1),vecData],axis = 1)\n",
    "    df_set = DateExtraColumns(df_set)\n",
    "    df_set = df_set.drop('DateOfDeparture', axis = 1)\n",
    "    df_set['LatitudeDeparture'] = np.log(df_set['LatitudeDeparture'].abs())\n",
    "    df_set['LatitudeArrival'] = np.log(df_set['LatitudeArrival'].abs())\n",
    "    return(df_set)"
   ]
  },
  {
   "cell_type": "code",
   "execution_count": 73,
   "metadata": {
    "collapsed": false
   },
   "outputs": [],
   "source": [
    "def textFile(y_pred):\n",
    "    import codecs\n",
    "    with codecs.open('y_pred.txt', 'w', encoding='utf-8') as f:\n",
    "        for i in range(y_pred.shape[0]):\n",
    "            f.write(unicode(y_pred[i])+'\\n')"
   ]
  },
  {
   "cell_type": "code",
   "execution_count": 74,
   "metadata": {
    "collapsed": false
   },
   "outputs": [],
   "source": [
    "# new column names are listed below\n",
    "# print(dvec.get_feature_names())\n",
    "#vecData.columns"
   ]
  },
  {
   "cell_type": "code",
   "execution_count": 148,
   "metadata": {
    "collapsed": false
   },
   "outputs": [],
   "source": [
    "def divideDate(df_set,df_dates):\n",
    "    d_l = lambda row: (row.day)\n",
    "    m_l = lambda row: (row.month)\n",
    "    y_l = lambda row: (row.year)\n",
    "    \n",
    "    arr = pd.DataFrame({\n",
    "            'Day':map(d_l, df_dates),\n",
    "            'Month':map(m_l, df_dates),\n",
    "            'Year':map(y_l, df_dates),\n",
    "        })\n",
    "    df_set = pd.concat([df_set,arr], axis = 1)\n",
    "    return (df_set)"
   ]
  },
  {
   "cell_type": "code",
   "execution_count": 118,
   "metadata": {
    "collapsed": false
   },
   "outputs": [],
   "source": [
    "# Firstly, we divide dates by day of the week (0 for Monday,1 for Tuesday etc.)\n",
    "# We suspect more people should be travelling on end-of-the-week flights\n",
    "def DayOfWeek(df_set,df_dates):\n",
    "    DOW_l = lambda row: (datetime.datetime.weekday(row))\n",
    "    day_of_week = map(DOW_l, df_dates)\n",
    "    day_of_week = pd.DataFrame(day_of_week)\n",
    "    day_of_week.columns = ['Day of week']\n",
    "    df_set = pd.concat([df_set,day_of_week],axis = 1)\n",
    "    return(df_set)"
   ]
  },
  {
   "cell_type": "code",
   "execution_count": 119,
   "metadata": {
    "collapsed": false
   },
   "outputs": [],
   "source": [
    "# Next, we take into consideration what season trips take place in (Winter,Spring,Summer or Fall)\n",
    "# by one-hot encoding them\n",
    "def Seasons(df_set,df_dates):\n",
    "    from sklearn.preprocessing import OneHotEncoder as ohe\n",
    "\n",
    "    seasons = {\n",
    "        1 : 0,\n",
    "        2 : 0,\n",
    "        3 : 1,\n",
    "        4 : 1,\n",
    "        5 : 1,\n",
    "        6 : 2,\n",
    "        7 : 2,\n",
    "        8 : 2,\n",
    "        9 : 3,\n",
    "        10 : 3,\n",
    "        11 : 3,\n",
    "        12 : 0\n",
    "    }\n",
    "    date_by_season =  map(lambda x: seasons[x.month], df_dates)\n",
    "    date_by_season = pd.DataFrame(date_by_season)\n",
    "    date_by_season.columns = ['Season']\n",
    "    enc = ohe(sparse=False)\n",
    "    enc.fit(date_by_season)\n",
    "    date_by_season = enc.transform(date_by_season)\n",
    "    date_by_season = pd.DataFrame(date_by_season)\n",
    "    date_by_season.columns = ['Winter','Spring','Summer','Fall']\n",
    "    df_set = pd.concat([df_set, date_by_season],axis = 1)\n",
    "    return(df_set)"
   ]
  },
  {
   "cell_type": "code",
   "execution_count": 120,
   "metadata": {
    "collapsed": false
   },
   "outputs": [],
   "source": [
    "# Another, more specific, time of year that we expect flights to be crowded\n",
    "# would be around Christmas and New year. Therefore, we determine whether a flight\n",
    "# took place between the 15th of December and the 10th of January (dates determined at random around\n",
    "# the specified holidays)\n",
    "def IsNearChristmas(df_set,df_dates):\n",
    "    around_christmas = map(lambda x: (int)(((x.month == 12) and (x.day >= 15)) or\n",
    "                          (x.month == 1 and x.day <= 10)), df_dates)\n",
    "    around_christmas\n",
    "    around_christmas = pd.DataFrame(around_christmas)\n",
    "    around_christmas.columns = ['IsAroundChristmas']\n",
    "    df_set = pd.concat([df_set, around_christmas], axis = 1)\n",
    "    return(df_set)"
   ]
  },
  {
   "cell_type": "code",
   "execution_count": 121,
   "metadata": {
    "collapsed": false
   },
   "outputs": [],
   "source": [
    "# Here, we examine the possibility of the dates having an impact on variable PAX.\n",
    "# In the next few functions,we analyze departure dates from different perspectives\n",
    "\n",
    "def DateExtraColumns(df_set):\n",
    "    dates = df_set['DateOfDeparture']\n",
    "    date_lambda = lambda row: (datetime.datetime.strptime(row, \"%Y-%m-%d\"))\n",
    "    df_dates = map(date_lambda,dates)\n",
    "    df_set = DayOfWeek(df_set,df_dates)\n",
    "    df_set = Seasons(df_set,df_dates)\n",
    "    df_set = IsNearChristmas(df_set,df_dates)\n",
    "    df_set = divideDate(df_set,df_dates)\n",
    "    return(df_set)"
   ]
  },
  {
   "cell_type": "code",
   "execution_count": 122,
   "metadata": {
    "collapsed": false,
    "scrolled": true
   },
   "outputs": [],
   "source": [
    "def DecisionTreeClassifierEntropyTestOnly(train_set):\n",
    "    from sklearn import tree\n",
    "    dt = tree.DecisionTreeClassifier(criterion='entropy')\n",
    "    dt = dt.fit(df1_train,df2_train)\n",
    "    from sklearn import metrics\n",
    "    df2_pred = dt.predict(df1_test)\n",
    "    print \"Accuracy:{0:.14f}\".format(metrics.f1_score(df2_test,df2_pred)),\"\\n\"\n",
    "    return(df2_pred)"
   ]
  },
  {
   "cell_type": "code",
   "execution_count": 123,
   "metadata": {
    "collapsed": false
   },
   "outputs": [],
   "source": [
    "def DecisionTreeClassifierEntropy(train_set,test_set):\n",
    "    from sklearn import tree\n",
    "    from sklearn.cross_validation import train_test_split\n",
    "    df_target = train_set['PAX']\n",
    "    df_data = train_set.drop('PAX', axis = 1)\n",
    "    df1_train,df1_test,df2_train,df2_test = train_test_split(df_data,df_target,test_size = 0.2,random_state = 42)\n",
    "    dt = tree.DecisionTreeClassifier(criterion='entropy')\n",
    "    dt = dt.fit(df1_train,df2_train)\n",
    "    from sklearn import metrics\n",
    "    df2_pred = dt.predict(test_set)\n",
    "    #print \"Accuracy:{0:.14f}\".format(metrics.f1_score(df2_test,df2_pred)),\"\\n\"\n",
    "    return(df2_pred)"
   ]
  },
  {
   "cell_type": "code",
   "execution_count": 124,
   "metadata": {
    "collapsed": false
   },
   "outputs": [],
   "source": [
    "def RandomForestClassifierEntropy(train_set,test_set):\n",
    "    from sklearn import feature_selection\n",
    "    from sklearn import tree\n",
    "    fs = feature_selection.SelectPercentile(feature_selection.chi2, percentile=38)\n",
    "    X_train_fs = fs.fit_transform(df1_train,df2_train)\n",
    "    X_test_fs = fs.transform(df_test)\n",
    "    \n",
    "    dt = ensemble.RandomForestClassifier(n_estimators=25,criterion='entropy',max_features=None)\n",
    "    dt = dt.fit(X_train_fs,df2_train)\n",
    "    from sklearn import metrics\n",
    "    df2_pred = dt.predict(X_test_fs)\n",
    "    return (df2_pred)"
   ]
  },
  {
   "cell_type": "code",
   "execution_count": 125,
   "metadata": {
    "collapsed": false
   },
   "outputs": [
    {
     "ename": "SyntaxError",
     "evalue": "invalid syntax (<ipython-input-125-7d1812463cd5>, line 1)",
     "output_type": "error",
     "traceback": [
      "\u001b[0;36m  File \u001b[0;32m\"<ipython-input-125-7d1812463cd5>\"\u001b[0;36m, line \u001b[0;32m1\u001b[0m\n\u001b[0;31m    def\u001b[0m\n\u001b[0m        ^\u001b[0m\n\u001b[0;31mSyntaxError\u001b[0m\u001b[0;31m:\u001b[0m invalid syntax\n"
     ]
    }
   ],
   "source": [
    "def "
   ]
  },
  {
   "cell_type": "code",
   "execution_count": 160,
   "metadata": {
    "collapsed": true
   },
   "outputs": [],
   "source": [
    "def featureSel(df_train,df_test):\n",
    "    from sklearn import feature_selection\n",
    "    from sklearn import tree\n",
    "    fs = feature_selection.SelectPercentile(feature_selection.chi2, percentile=31)\n",
    "    X_train_fs = fs.fit_transform(df1_train,df2_train)\n",
    "    X_test_fs = fs.transform(df_test)\n",
    "    \n",
    "    dt = tree.DecisionTreeClassifier(criterion='gini',max_features=None)\n",
    "    dt = dt.fit(X_train_fs,df2_train)\n",
    "    from sklearn import metrics\n",
    "    df2_pred = dt.predict(X_test_fs)\n",
    "    return (df2_pred)"
   ]
  },
  {
   "cell_type": "code",
   "execution_count": 161,
   "metadata": {
    "collapsed": false,
    "scrolled": true
   },
   "outputs": [
    {
     "data": {
      "text/html": [
       "<div>\n",
       "<table border=\"1\" class=\"dataframe\">\n",
       "  <thead>\n",
       "    <tr style=\"text-align: right;\">\n",
       "      <th></th>\n",
       "      <th>Departure</th>\n",
       "      <th>CityDeparture</th>\n",
       "      <th>LongitudeDeparture</th>\n",
       "      <th>LatitudeDeparture</th>\n",
       "      <th>Arrival</th>\n",
       "      <th>CityArrival</th>\n",
       "      <th>LongitudeArrival</th>\n",
       "      <th>LatitudeArrival</th>\n",
       "      <th>WeeksToDeparture</th>\n",
       "      <th>std_wtd</th>\n",
       "      <th>Day of week</th>\n",
       "      <th>Winter</th>\n",
       "      <th>Spring</th>\n",
       "      <th>Summer</th>\n",
       "      <th>Fall</th>\n",
       "      <th>IsAroundChristmas</th>\n",
       "      <th>Day</th>\n",
       "      <th>Month</th>\n",
       "      <th>Year</th>\n",
       "    </tr>\n",
       "  </thead>\n",
       "  <tbody>\n",
       "    <tr>\n",
       "      <th>0</th>\n",
       "      <td>4</td>\n",
       "      <td>4</td>\n",
       "      <td>32.896828</td>\n",
       "      <td>4.575103</td>\n",
       "      <td>19</td>\n",
       "      <td>17</td>\n",
       "      <td>37.618972</td>\n",
       "      <td>4.807089</td>\n",
       "      <td>14.600000</td>\n",
       "      <td>11.575837</td>\n",
       "      <td>6</td>\n",
       "      <td>0.0</td>\n",
       "      <td>0.0</td>\n",
       "      <td>0.0</td>\n",
       "      <td>1.0</td>\n",
       "      <td>0</td>\n",
       "      <td>21</td>\n",
       "      <td>10</td>\n",
       "      <td>2012</td>\n",
       "    </tr>\n",
       "    <tr>\n",
       "      <th>1</th>\n",
       "      <td>10</td>\n",
       "      <td>9</td>\n",
       "      <td>33.942536</td>\n",
       "      <td>4.774137</td>\n",
       "      <td>0</td>\n",
       "      <td>0</td>\n",
       "      <td>33.636719</td>\n",
       "      <td>4.435900</td>\n",
       "      <td>14.730769</td>\n",
       "      <td>13.364304</td>\n",
       "      <td>3</td>\n",
       "      <td>0.0</td>\n",
       "      <td>0.0</td>\n",
       "      <td>0.0</td>\n",
       "      <td>1.0</td>\n",
       "      <td>0</td>\n",
       "      <td>13</td>\n",
       "      <td>9</td>\n",
       "      <td>2012</td>\n",
       "    </tr>\n",
       "    <tr>\n",
       "      <th>2</th>\n",
       "      <td>15</td>\n",
       "      <td>3</td>\n",
       "      <td>41.978603</td>\n",
       "      <td>4.476255</td>\n",
       "      <td>7</td>\n",
       "      <td>7</td>\n",
       "      <td>29.984433</td>\n",
       "      <td>4.557465</td>\n",
       "      <td>8.470588</td>\n",
       "      <td>5.885551</td>\n",
       "      <td>1</td>\n",
       "      <td>0.0</td>\n",
       "      <td>0.0</td>\n",
       "      <td>0.0</td>\n",
       "      <td>1.0</td>\n",
       "      <td>0</td>\n",
       "      <td>4</td>\n",
       "      <td>9</td>\n",
       "      <td>2012</td>\n",
       "    </tr>\n",
       "    <tr>\n",
       "      <th>3</th>\n",
       "      <td>3</td>\n",
       "      <td>5</td>\n",
       "      <td>39.861656</td>\n",
       "      <td>4.650843</td>\n",
       "      <td>17</td>\n",
       "      <td>16</td>\n",
       "      <td>33.434278</td>\n",
       "      <td>4.718602</td>\n",
       "      <td>8.200000</td>\n",
       "      <td>6.292853</td>\n",
       "      <td>0</td>\n",
       "      <td>0.0</td>\n",
       "      <td>0.0</td>\n",
       "      <td>1.0</td>\n",
       "      <td>0.0</td>\n",
       "      <td>0</td>\n",
       "      <td>13</td>\n",
       "      <td>8</td>\n",
       "      <td>2012</td>\n",
       "    </tr>\n",
       "    <tr>\n",
       "      <th>4</th>\n",
       "      <td>15</td>\n",
       "      <td>3</td>\n",
       "      <td>41.978603</td>\n",
       "      <td>4.476255</td>\n",
       "      <td>18</td>\n",
       "      <td>18</td>\n",
       "      <td>47.449000</td>\n",
       "      <td>4.806553</td>\n",
       "      <td>12.090909</td>\n",
       "      <td>9.138662</td>\n",
       "      <td>0</td>\n",
       "      <td>0.0</td>\n",
       "      <td>0.0</td>\n",
       "      <td>0.0</td>\n",
       "      <td>1.0</td>\n",
       "      <td>0</td>\n",
       "      <td>10</td>\n",
       "      <td>9</td>\n",
       "      <td>2012</td>\n",
       "    </tr>\n",
       "  </tbody>\n",
       "</table>\n",
       "</div>"
      ],
      "text/plain": [
       "   Departure  CityDeparture  LongitudeDeparture  LatitudeDeparture  Arrival  \\\n",
       "0          4              4           32.896828           4.575103       19   \n",
       "1         10              9           33.942536           4.774137        0   \n",
       "2         15              3           41.978603           4.476255        7   \n",
       "3          3              5           39.861656           4.650843       17   \n",
       "4         15              3           41.978603           4.476255       18   \n",
       "\n",
       "   CityArrival  LongitudeArrival  LatitudeArrival  WeeksToDeparture  \\\n",
       "0           17         37.618972         4.807089         14.600000   \n",
       "1            0         33.636719         4.435900         14.730769   \n",
       "2            7         29.984433         4.557465          8.470588   \n",
       "3           16         33.434278         4.718602          8.200000   \n",
       "4           18         47.449000         4.806553         12.090909   \n",
       "\n",
       "     std_wtd  Day of week  Winter  Spring  Summer  Fall  IsAroundChristmas  \\\n",
       "0  11.575837            6     0.0     0.0     0.0   1.0                  0   \n",
       "1  13.364304            3     0.0     0.0     0.0   1.0                  0   \n",
       "2   5.885551            1     0.0     0.0     0.0   1.0                  0   \n",
       "3   6.292853            0     0.0     0.0     1.0   0.0                  0   \n",
       "4   9.138662            0     0.0     0.0     0.0   1.0                  0   \n",
       "\n",
       "   Day  Month  Year  \n",
       "0   21     10  2012  \n",
       "1   13      9  2012  \n",
       "2    4      9  2012  \n",
       "3   13      8  2012  \n",
       "4   10      9  2012  "
      ]
     },
     "execution_count": 161,
     "metadata": {},
     "output_type": "execute_result"
    }
   ],
   "source": [
    "import pandas as pd\n",
    "import numpy as np\n",
    "from dateutil.parser import parse\n",
    "import datetime\n",
    "df_train = pd.read_csv('train.csv')\n",
    "df_train = PreProc(df_train)\n",
    "\n",
    "from sklearn.cross_validation import train_test_split\n",
    "df_target = df_train['PAX']\n",
    "df_data = df_train.drop('PAX', axis = 1)\n",
    "df1_train,df1_test,df2_train,df2_test = train_test_split(df_data,df_target,test_size = 0.25,random_state = 33)\n",
    "\n",
    "df_test = pd.read_csv('test.csv')\n",
    "df_test = PreProc(df_test)\n",
    "\n",
    "df_test.head()"
   ]
  },
  {
   "cell_type": "code",
   "execution_count": 162,
   "metadata": {
    "collapsed": false
   },
   "outputs": [
    {
     "data": {
      "text/plain": [
       "array([0, 3, 0, ..., 1, 1, 1], dtype=int64)"
      ]
     },
     "execution_count": 162,
     "metadata": {},
     "output_type": "execute_result"
    }
   ],
   "source": [
    "y_pred = featureSel(df_train,df_test)\n",
    "textFile(y_pred)\n",
    "y_pred"
   ]
  },
  {
   "cell_type": "code",
   "execution_count": null,
   "metadata": {
    "collapsed": false
   },
   "outputs": [],
   "source": []
  },
  {
   "cell_type": "code",
   "execution_count": 173,
   "metadata": {
    "collapsed": false
   },
   "outputs": [
    {
     "name": "stdout",
     "output_type": "stream",
     "text": [
      "Optimal number of features:26[ 0.48486308] \n",
      "\n"
     ]
    },
    {
     "name": "stderr",
     "output_type": "stream",
     "text": [
      "C:\\Users\\asdfqwerty\\Anaconda2\\lib\\site-packages\\ipykernel\\__main__.py:18: VisibleDeprecationWarning: converting an array with ndim > 0 to an index will result in an error in the future\n"
     ]
    },
    {
     "data": {
      "image/png": "[encoded data removed]",
      "text/plain": [
       "<matplotlib.figure.Figure at 0xb64db00>"
      ]
     },
     "metadata": {},
     "output_type": "display_data"
    }
   ],
   "source": [
    "from sklearn import cross_validation,feature_selection,tree,ensemble\n",
    "percentiles = range(1, 100, 5)\n",
    "results = []\n",
    "for i in range(1, 100, 5):\n",
    "    fs = feature_selection.SelectPercentile( \n",
    "        feature_selection.chi2, percentile=i\n",
    "    )\n",
    "    X_train_fs = fs.fit_transform(df1_train, df2_train)\n",
    "    dt = tree.DecisionTreeClassifier(criterion='entropy',max_features=None)\n",
    "    dt = dt.fit(df1_train,df2_train)\n",
    "    \n",
    "    from sklearn import metrics\n",
    "    scores = cross_validation.cross_val_score(dt, X_train_fs,\n",
    "                                              df2_train,scoring = \"f1_weighted\" , cv=10)\n",
    "    results = np.append(results, scores.mean())\n",
    "optimal_percentil = np.where(results == results.max())[0] \n",
    "print \"Optimal number of features:{0}{1}\".format(\n",
    "                   percentiles[optimal_percentil],results[optimal_percentil] ), \"\\n\"\n",
    "# Plot number of features VS. cross-validation scores \n",
    "import pylab as pl \n",
    "pl.figure()\n",
    "pl.xlabel(\"Number of features selected\") \n",
    "pl.ylabel(\"Cross-validation accuracy)\")\n",
    "pl.plot(percentiles, results)\n",
    "pl.show()"
   ]
  },
  {
   "cell_type": "code",
   "execution_count": 31,
   "metadata": {
    "collapsed": false
   },
   "outputs": [
    {
     "data": {
      "text/plain": [
       "0    7\n",
       "1    7\n",
       "2    7\n",
       "3    7\n",
       "4    7\n",
       "Name: PAX, dtype: int64"
      ]
     },
     "execution_count": 31,
     "metadata": {},
     "output_type": "execute_result"
    }
   ],
   "source": [
    "t.head()"
   ]
  },
  {
   "cell_type": "code",
   "execution_count": 41,
   "metadata": {
    "collapsed": false
   },
   "outputs": [
    {
     "data": {
      "text/plain": [
       "KNeighborsClassifier(algorithm='auto', leaf_size=30, metric='minkowski',\n",
       "           metric_params=None, n_jobs=1, n_neighbors=6, p=2,\n",
       "           weights='uniform')"
      ]
     },
     "execution_count": 41,
     "metadata": {},
     "output_type": "execute_result"
    }
   ],
   "source": [
    "from sklearn.neighbors import KNeighborsClassifier\n",
    "from sklearn.cross_validation import train_test_split\n",
    "\n",
    "X_train, X_test, y_train, y_test = train_test_split(df_train, t, random_state=10)\n",
    "k = KNeighborsClassifier(n_neighbors=6)\n",
    "k.fit(X_train, y_train)"
   ]
  },
  {
   "cell_type": "code",
   "execution_count": 42,
   "metadata": {
    "collapsed": false
   },
   "outputs": [
    {
     "name": "stdout",
     "output_type": "stream",
     "text": [
      "0.411235955056\n"
     ]
    }
   ],
   "source": [
    "from sklearn import metrics\n",
    "y_pred = k.predict(X_test)\n",
    "print(metrics.accuracy_score(y_test, y_pred))"
   ]
  },
  {
   "cell_type": "code",
   "execution_count": 149,
   "metadata": {
    "collapsed": true
   },
   "outputs": [],
   "source": [
    "np.savetxt('p.txt', pre , fmt='%d')"
   ]
  },
  {
   "cell_type": "code",
   "execution_count": 78,
   "metadata": {
    "collapsed": false
   },
   "outputs": [
    {
     "name": "stdout",
     "output_type": "stream",
     "text": [
      "Accuracy:0.42564673969691 \n",
      "\n"
     ]
    },
    {
     "name": "stderr",
     "output_type": "stream",
     "text": [
      "C:\\Users\\Nikos\\Anaconda2\\lib\\site-packages\\sklearn\\metrics\\classification.py:756: DeprecationWarning: The default `weighted` averaging is deprecated, and from version 0.18, use of precision, recall or F-score with multiclass or multilabel data or pos_label=None will result in an exception. Please set an explicit value for `average`, one of (None, 'micro', 'macro', 'weighted', 'samples'). In cross validation use, for instance, scoring=\"f1_weighted\" instead of scoring=\"f1\".\n",
      "  sample_weight=sample_weight)\n"
     ]
    },
    {
     "data": {
      "text/html": [
       "<div>\n",
       "<table border=\"1\" class=\"dataframe\">\n",
       "  <thead>\n",
       "    <tr style=\"text-align: right;\">\n",
       "      <th></th>\n",
       "      <th>0</th>\n",
       "    </tr>\n",
       "  </thead>\n",
       "  <tbody>\n",
       "    <tr>\n",
       "      <th>count</th>\n",
       "      <td>2229.000000</td>\n",
       "    </tr>\n",
       "    <tr>\n",
       "      <th>mean</th>\n",
       "      <td>3.745177</td>\n",
       "    </tr>\n",
       "    <tr>\n",
       "      <th>std</th>\n",
       "      <td>2.468405</td>\n",
       "    </tr>\n",
       "    <tr>\n",
       "      <th>min</th>\n",
       "      <td>0.000000</td>\n",
       "    </tr>\n",
       "    <tr>\n",
       "      <th>25%</th>\n",
       "      <td>2.000000</td>\n",
       "    </tr>\n",
       "    <tr>\n",
       "      <th>50%</th>\n",
       "      <td>5.000000</td>\n",
       "    </tr>\n",
       "    <tr>\n",
       "      <th>75%</th>\n",
       "      <td>6.000000</td>\n",
       "    </tr>\n",
       "    <tr>\n",
       "      <th>max</th>\n",
       "      <td>7.000000</td>\n",
       "    </tr>\n",
       "  </tbody>\n",
       "</table>\n",
       "</div>"
      ],
      "text/plain": [
       "                 0\n",
       "count  2229.000000\n",
       "mean      3.745177\n",
       "std       2.468405\n",
       "min       0.000000\n",
       "25%       2.000000\n",
       "50%       5.000000\n",
       "75%       6.000000\n",
       "max       7.000000"
      ]
     },
     "execution_count": 78,
     "metadata": {},
     "output_type": "execute_result"
    }
   ],
   "source": [
    "y_pred = DecisionTreeClassifierEntropy(df_train,df_test)\n",
    "x_test = DecisionTreeClassifierEntropyTestOnly(df_train)\n",
    "np.savetxt('y_pred.txt', y_pred, fmt='%d')\n",
    "y_pred = pd.DataFrame(y_pred)\n",
    "y_pred.describe()"
   ]
  },
  {
   "cell_type": "code",
   "execution_count": 38,
   "metadata": {
    "collapsed": false
   },
   "outputs": [
    {
     "name": "stderr",
     "output_type": "stream",
     "text": [
      "C:\\Users\\asdfqwerty\\Anaconda2\\lib\\site-packages\\numpy\\core\\numeric.py:301: FutureWarning: in the future, full((2229, 1), 2) will return an array of dtype('int32')\n",
      "  format(shape, fill_value, array(fill_value).dtype), FutureWarning)\n"
     ]
    },
    {
     "data": {
      "text/plain": [
       "array([[ 2.],\n",
       "       [ 2.],\n",
       "       [ 2.],\n",
       "       ..., \n",
       "       [ 2.],\n",
       "       [ 2.],\n",
       "       [ 2.]])"
      ]
     },
     "execution_count": 38,
     "metadata": {},
     "output_type": "execute_result"
    }
   ],
   "source": [
    "y_pred = np.full((2229,1),2)\n",
    "np.savetxt('y_pred.txt', y_pred, fmt='%d')\n",
    "y_pred"
   ]
  },
  {
   "cell_type": "code",
   "execution_count": 15,
   "metadata": {
    "collapsed": true
   },
   "outputs": [],
   "source": []
  },
  {
   "cell_type": "code",
   "execution_count": 1,
   "metadata": {
    "collapsed": false
   },
   "outputs": [
    {
     "ename": "NameError",
     "evalue": "name 'df1_train' is not defined",
     "output_type": "error",
     "traceback": [
      "\u001b[0;31m---------------------------------------------------------------------------\u001b[0m",
      "\u001b[0;31mNameError\u001b[0m                                 Traceback (most recent call last)",
      "\u001b[0;32m<ipython-input-1-403eb2e0e59a>\u001b[0m in \u001b[0;36m<module>\u001b[0;34m()\u001b[0m\n\u001b[1;32m      2\u001b[0m \u001b[1;32mfrom\u001b[0m \u001b[0msklearn\u001b[0m \u001b[1;32mimport\u001b[0m \u001b[0mfeature_selection\u001b[0m\u001b[1;33m\u001b[0m\u001b[0m\n\u001b[1;32m      3\u001b[0m \u001b[0mfs\u001b[0m \u001b[1;33m=\u001b[0m \u001b[0mfeature_selection\u001b[0m\u001b[1;33m.\u001b[0m\u001b[0mSelectPercentile\u001b[0m\u001b[1;33m(\u001b[0m\u001b[0mfeature_selection\u001b[0m\u001b[1;33m.\u001b[0m\u001b[0mchi2\u001b[0m\u001b[1;33m,\u001b[0m \u001b[0mpercentile\u001b[0m \u001b[1;33m=\u001b[0m \u001b[1;36m20\u001b[0m\u001b[1;33m)\u001b[0m\u001b[1;33m\u001b[0m\u001b[0m\n\u001b[0;32m----> 4\u001b[0;31m \u001b[0mX_train_fs\u001b[0m \u001b[1;33m=\u001b[0m \u001b[0mfs\u001b[0m\u001b[1;33m.\u001b[0m\u001b[0mfit_transform\u001b[0m\u001b[1;33m(\u001b[0m\u001b[0mdf1_train\u001b[0m\u001b[1;33m,\u001b[0m\u001b[0mdf2_train\u001b[0m\u001b[1;33m)\u001b[0m\u001b[1;33m\u001b[0m\u001b[0m\n\u001b[0m",
      "\u001b[0;31mNameError\u001b[0m: name 'df1_train' is not defined"
     ]
    }
   ],
   "source": [
    "\n"
   ]
  },
  {
   "cell_type": "code",
   "execution_count": null,
   "metadata": {
    "collapsed": true
   },
   "outputs": [],
   "source": [
    "df_train = df_train.drop('DateOfDeparture', axis = 1)\n",
    "from sklearn.cross_validation import train_test_split\n",
    "df_target = df_train['PAX']\n",
    "df_data = df_train.drop('PAX', axis = 1)\n",
    "df1_train,df1_test,df2_train,df2_test = train_test_split(df_data,df_target,test_size = 0.2,random_state = 33)\n",
    "print ('Ths manas sou')"
   ]
  },
  {
   "cell_type": "code",
   "execution_count": null,
   "metadata": {
    "collapsed": true
   },
   "outputs": [],
   "source": []
  },
  {
   "cell_type": "code",
   "execution_count": 6,
   "metadata": {
    "collapsed": false
   },
   "outputs": [],
   "source": []
  },
  {
   "cell_type": "code",
   "execution_count": null,
   "metadata": {
    "collapsed": true
   },
   "outputs": [],
   "source": []
  },
  {
   "cell_type": "code",
   "execution_count": 2,
   "metadata": {
    "collapsed": true
   },
   "outputs": [],
   "source": []
  },
  {
   "cell_type": "code",
   "execution_count": 3,
   "metadata": {
    "collapsed": true
   },
   "outputs": [],
   "source": []
  },
  {
   "cell_type": "code",
   "execution_count": null,
   "metadata": {
    "collapsed": true
   },
   "outputs": [],
   "source": []
  },
  {
   "cell_type": "code",
   "execution_count": 4,
   "metadata": {
    "collapsed": false
   },
   "outputs": [],
   "source": []
  },
  {
   "cell_type": "code",
   "execution_count": null,
   "metadata": {
    "collapsed": true
   },
   "outputs": [],
   "source": []
  },
  {
   "cell_type": "raw",
   "metadata": {},
   "source": []
  },
  {
   "cell_type": "code",
   "execution_count": null,
   "metadata": {
    "collapsed": false
   },
   "outputs": [],
   "source": []
  },
  {
   "cell_type": "code",
   "execution_count": null,
   "metadata": {
    "collapsed": true
   },
   "outputs": [],
   "source": []
  },
  {
   "cell_type": "code",
   "execution_count": null,
   "metadata": {
    "collapsed": true
   },
   "outputs": [],
   "source": []
  },
  {
   "cell_type": "code",
   "execution_count": null,
   "metadata": {
    "collapsed": true
   },
   "outputs": [],
   "source": []
  },
  {
   "cell_type": "code",
   "execution_count": null,
   "metadata": {
    "collapsed": true
   },
   "outputs": [],
   "source": []
  },
  {
   "cell_type": "code",
   "execution_count": 1,
   "metadata": {
    "collapsed": false
   },
   "outputs": [
    {
     "ename": "NameError",
     "evalue": "name 'df_train' is not defined",
     "output_type": "error",
     "traceback": [
      "\u001b[0;31m---------------------------------------------------------------------------\u001b[0m",
      "\u001b[0;31mNameError\u001b[0m                                 Traceback (most recent call last)",
      "\u001b[0;32m<ipython-input-1-84146171cf17>\u001b[0m in \u001b[0;36m<module>\u001b[0;34m()\u001b[0m\n\u001b[0;32m----> 1\u001b[0;31m \u001b[0mdf_train\u001b[0m\u001b[1;33m.\u001b[0m\u001b[0mdescribe\u001b[0m\u001b[1;33m(\u001b[0m\u001b[1;33m)\u001b[0m\u001b[1;33m\u001b[0m\u001b[0m\n\u001b[0m",
      "\u001b[0;31mNameError\u001b[0m: name 'df_train' is not defined"
     ]
    }
   ],
   "source": []
  },
  {
   "cell_type": "code",
   "execution_count": null,
   "metadata": {
    "collapsed": true
   },
   "outputs": [],
   "source": []
  }
 ],
 "metadata": {
  "anaconda-cloud": {},
  "kernelspec": {
   "display_name": "Python [conda root]",
   "language": "python",
   "name": "conda-root-py"
  },
  "language_info": {
   "codemirror_mode": {
    "name": "ipython",
    "version": 2
   },
   "file_extension": ".py",
   "mimetype": "text/x-python",
   "name": "python",
   "nbconvert_exporter": "python",
   "pygments_lexer": "ipython2",
   "version": "2.7.12"
  }
 },
 "nbformat": 4,
 "nbformat_minor": 1
}
